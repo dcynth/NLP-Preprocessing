{
 "cells": [
  {
   "cell_type": "code",
   "execution_count": 3,
   "metadata": {
    "collapsed": true
   },
   "outputs": [],
   "source": [
    "import numpy as np\n"
   ]
  },
  {
   "cell_type": "code",
   "execution_count": 163,
   "metadata": {},
   "outputs": [
    {
     "name": "stdout",
     "output_type": "stream",
     "text": [
      "[nltk_data] Downloading package punkt to /Users/cynthia/nltk_data...\n",
      "[nltk_data]   Package punkt is already up-to-date!\n",
      "[nltk_data] Downloading package averaged_perceptron_tagger to\n",
      "[nltk_data]     /Users/cynthia/nltk_data...\n",
      "[nltk_data]   Package averaged_perceptron_tagger is already up-to-\n",
      "[nltk_data]       date!\n"
     ]
    },
    {
     "data": {
      "text/plain": [
       "True"
      ]
     },
     "execution_count": 163,
     "metadata": {},
     "output_type": "execute_result"
    }
   ],
   "source": [
    "import gensim\n",
    "import string\n",
    "from gensim.parsing.preprocessing import STOPWORDS\n",
    "import nltk\n",
    "nltk.download('punkt')\n",
    "nltk.download('averaged_perceptron_tagger')\n",
    "\n"
   ]
  },
  {
   "cell_type": "code",
   "execution_count": 164,
   "metadata": {
    "collapsed": true
   },
   "outputs": [],
   "source": [
    "import string\n",
    "\n",
    "def strip_punctuation(str):\n",
    "    return str.translate({ord(c):'' for c in string.punctuation})\n",
    "\n",
    "def split_article(article):\n",
    "    article = strip_punctuation(article).lower()\n",
    "    return article.split()"
   ]
  },
  {
   "cell_type": "code",
   "execution_count": 165,
   "metadata": {
    "collapsed": true
   },
   "outputs": [],
   "source": [
    "article_title = \"Sustainability Operations\"\n",
    "article = \"At Caterpillar, sustainability begins within our own operations. We have established high performance standards for environment, health and safety at our facilities that extend beyond compliance with laws and regulations. Proactive implementation of these standards demonstrates our commitment to sustainability leadership in our industry. We are dedicated to the safety of everyone at Caterpillar. We promote the health and safety of our people with policies and proactive programs that help individuals stay safe, personally and professionally. We develop our products, manufacturing processes, training programs and customer assistance programs to minimize safety risks because the safety of our operations and the unique capabilities of our employees ensure the long-term success of our enterprise. As well, our facilities have been working to minimize the environmental impact of our operations, including a focus on energy conservation, greenhouse gas emissions reductions, water conservation and waste reduction. Our Environment, Health and Safety (EHS) Professionals play a key role in providing expertise and support to Caterpillar operations around the world. They have teamed with Caterpillar leadership to drive tremendous improvement and heightened awareness of the importance of EHS across our enterprise. Employees of Team Caterpillar are engaged in identifying and managing risk and are active participants in continuously improving the environment, health and safety of our operations.\""
   ]
  },
  {
   "cell_type": "code",
   "execution_count": 166,
   "metadata": {
    "collapsed": true
   },
   "outputs": [],
   "source": [
    "def preprocess(article):\n",
    "    result = []\n",
    "    for token in split_article(article):\n",
    "        if token not in gensim.parsing.preprocessing.STOPWORDS and len(token) > 3:\n",
    "            result.append(token)\n",
    "    return result\n"
   ]
  },
  {
   "cell_type": "code",
   "execution_count": 167,
   "metadata": {
    "collapsed": true
   },
   "outputs": [],
   "source": [
    "new_article = preprocess(article)"
   ]
  },
  {
   "cell_type": "code",
   "execution_count": 168,
   "metadata": {},
   "outputs": [
    {
     "data": {
      "text/plain": [
       "[('caterpillar', 'JJ'),\n",
       " ('sustainability', 'NN'),\n",
       " ('begins', 'VBZ'),\n",
       " ('operations', 'NNS'),\n",
       " ('established', 'VBN'),\n",
       " ('high', 'JJ'),\n",
       " ('performance', 'NN'),\n",
       " ('standards', 'NNS'),\n",
       " ('environment', 'NN'),\n",
       " ('health', 'NN'),\n",
       " ('safety', 'NN'),\n",
       " ('facilities', 'NNS'),\n",
       " ('extend', 'VBP'),\n",
       " ('compliance', 'NN'),\n",
       " ('laws', 'NNS'),\n",
       " ('regulations', 'NNS'),\n",
       " ('proactive', 'JJ'),\n",
       " ('implementation', 'NN'),\n",
       " ('standards', 'NNS'),\n",
       " ('demonstrates', 'VBZ'),\n",
       " ('commitment', 'JJ'),\n",
       " ('sustainability', 'NN'),\n",
       " ('leadership', 'NN'),\n",
       " ('industry', 'NN'),\n",
       " ('dedicated', 'VBD'),\n",
       " ('safety', 'NN'),\n",
       " ('caterpillar', 'JJ'),\n",
       " ('promote', 'NN'),\n",
       " ('health', 'NN'),\n",
       " ('safety', 'NN'),\n",
       " ('people', 'NNS'),\n",
       " ('policies', 'NNS'),\n",
       " ('proactive', 'VBP'),\n",
       " ('programs', 'NNS'),\n",
       " ('help', 'VBP'),\n",
       " ('individuals', 'NNS'),\n",
       " ('stay', 'VB'),\n",
       " ('safe', 'JJ'),\n",
       " ('personally', 'RB'),\n",
       " ('professionally', 'RB'),\n",
       " ('develop', 'VB'),\n",
       " ('products', 'NNS'),\n",
       " ('manufacturing', 'VBG'),\n",
       " ('processes', 'NNS'),\n",
       " ('training', 'VBG'),\n",
       " ('programs', 'NNS'),\n",
       " ('customer', 'NN'),\n",
       " ('assistance', 'NN'),\n",
       " ('programs', 'NNS'),\n",
       " ('minimize', 'VBP'),\n",
       " ('safety', 'NN'),\n",
       " ('risks', 'NNS'),\n",
       " ('safety', 'NN'),\n",
       " ('operations', 'NNS'),\n",
       " ('unique', 'JJ'),\n",
       " ('capabilities', 'NNS'),\n",
       " ('employees', 'NNS'),\n",
       " ('ensure', 'VB'),\n",
       " ('longterm', 'JJ'),\n",
       " ('success', 'NN'),\n",
       " ('enterprise', 'NN'),\n",
       " ('facilities', 'NNS'),\n",
       " ('working', 'VBG'),\n",
       " ('minimize', 'VB'),\n",
       " ('environmental', 'JJ'),\n",
       " ('impact', 'NN'),\n",
       " ('operations', 'NNS'),\n",
       " ('including', 'VBG'),\n",
       " ('focus', 'NN'),\n",
       " ('energy', 'NN'),\n",
       " ('conservation', 'NN'),\n",
       " ('greenhouse', 'NN'),\n",
       " ('emissions', 'NNS'),\n",
       " ('reductions', 'NNS'),\n",
       " ('water', 'NN'),\n",
       " ('conservation', 'NN'),\n",
       " ('waste', 'NN'),\n",
       " ('reduction', 'NN'),\n",
       " ('environment', 'NN'),\n",
       " ('health', 'NN'),\n",
       " ('safety', 'NN'),\n",
       " ('professionals', 'NNS'),\n",
       " ('play', 'VBP'),\n",
       " ('role', 'NN'),\n",
       " ('providing', 'VBG'),\n",
       " ('expertise', 'JJ'),\n",
       " ('support', 'NN'),\n",
       " ('caterpillar', 'NN'),\n",
       " ('operations', 'NNS'),\n",
       " ('world', 'NN'),\n",
       " ('teamed', 'VBD'),\n",
       " ('caterpillar', 'JJ'),\n",
       " ('leadership', 'NN'),\n",
       " ('drive', 'NN'),\n",
       " ('tremendous', 'JJ'),\n",
       " ('improvement', 'NN'),\n",
       " ('heightened', 'VBD'),\n",
       " ('awareness', 'JJ'),\n",
       " ('importance', 'NN'),\n",
       " ('enterprise', 'NN'),\n",
       " ('employees', 'NNS'),\n",
       " ('team', 'VBP'),\n",
       " ('caterpillar', 'RB'),\n",
       " ('engaged', 'VBN'),\n",
       " ('identifying', 'VBG'),\n",
       " ('managing', 'VBG'),\n",
       " ('risk', 'NN'),\n",
       " ('active', 'JJ'),\n",
       " ('participants', 'NNS'),\n",
       " ('continuously', 'RB'),\n",
       " ('improving', 'VBG'),\n",
       " ('environment', 'NN'),\n",
       " ('health', 'NN'),\n",
       " ('safety', 'NN'),\n",
       " ('operations', 'NNS')]"
      ]
     },
     "execution_count": 168,
     "metadata": {},
     "output_type": "execute_result"
    }
   ],
   "source": [
    "nltk.pos_tag(new_article)"
   ]
  },
  {
   "cell_type": "code",
   "execution_count": null,
   "metadata": {
    "collapsed": true
   },
   "outputs": [],
   "source": []
  },
  {
   "cell_type": "code",
   "execution_count": null,
   "metadata": {
    "collapsed": true
   },
   "outputs": [],
   "source": []
  },
  {
   "cell_type": "code",
   "execution_count": null,
   "metadata": {
    "collapsed": true
   },
   "outputs": [],
   "source": []
  },
  {
   "cell_type": "code",
   "execution_count": null,
   "metadata": {
    "collapsed": true
   },
   "outputs": [],
   "source": []
  }
 ],
 "metadata": {
  "kernelspec": {
   "display_name": "Python 3",
   "language": "python",
   "name": "python3"
  },
  "language_info": {
   "codemirror_mode": {
    "name": "ipython",
    "version": 3
   },
   "file_extension": ".py",
   "mimetype": "text/x-python",
   "name": "python",
   "nbconvert_exporter": "python",
   "pygments_lexer": "ipython3",
   "version": "3.6.1"
  }
 },
 "nbformat": 4,
 "nbformat_minor": 2
}
